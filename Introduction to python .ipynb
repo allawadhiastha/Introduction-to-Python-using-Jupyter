{
 "cells": [
  {
   "cell_type": "markdown",
   "metadata": {},
   "source": [
    "# Introduction to python"
   ]
  },
  {
   "cell_type": "code",
   "execution_count": null,
   "metadata": {},
   "outputs": [],
   "source": [
    "# this is a comment line"
   ]
  },
  {
   "cell_type": "code",
   "execution_count": null,
   "metadata": {},
   "outputs": [],
   "source": [
    "# this is a multiple line comment\n",
    "\n",
    "\"\"\"\n",
    "multiple lines\n",
    "being printed as \n",
    "comment here\n",
    "\"\"\""
   ]
  },
  {
   "cell_type": "code",
   "execution_count": null,
   "metadata": {},
   "outputs": [],
   "source": [
    "# printing lines using double quotes\n",
    "print(\"hello! i am learning python\")"
   ]
  },
  {
   "cell_type": "code",
   "execution_count": null,
   "metadata": {},
   "outputs": [],
   "source": [
    "# printing lines using single quotes give same result as print in double quotes \n",
    "\n",
    "print('hello ! i am learning python')"
   ]
  },
  {
   "cell_type": "code",
   "execution_count": null,
   "metadata": {},
   "outputs": [],
   "source": [
    "# printing line give error when opened with one type of quote and closing with other type of other\n",
    "print('hello ! i am learning python\")\n"
   ]
  },
  {
   "cell_type": "code",
   "execution_count": null,
   "metadata": {},
   "outputs": [],
   "source": [
    "age = 24\n",
    "print(\"My age is\")\n",
    "print(age)\n",
    "\n",
    "name = 'Astha'\n",
    "print(\"My name is\")\n",
    "print(name)\n",
    "\n",
    "height = 5.1\n",
    "print(\"My height is\")\n",
    "print(height)"
   ]
  },
  {
   "cell_type": "code",
   "execution_count": 2,
   "metadata": {},
   "outputs": [
    {
     "data": {
      "text/plain": [
       "40"
      ]
     },
     "execution_count": 2,
     "metadata": {},
     "output_type": "execute_result"
    }
   ],
   "source": [
    "sentence = \"Hi all i am learning python and its cool\"\n",
    "len(sentence)"
   ]
  },
  {
   "cell_type": "code",
   "execution_count": 3,
   "metadata": {},
   "outputs": [
    {
     "data": {
      "text/plain": [
       "'H'"
      ]
     },
     "execution_count": 3,
     "metadata": {},
     "output_type": "execute_result"
    }
   ],
   "source": [
    "sentence[0]"
   ]
  },
  {
   "cell_type": "code",
   "execution_count": null,
   "metadata": {},
   "outputs": [],
   "source": [
    "f_nm = 'Astha'\n",
    "l_nm = 'Allawadhi'\n",
    "nm = f_nm + l_nm\n",
    "name = f_nm +\" \"+ l_nm  # if we want to concatinate two strings and want space between them we will just conct a space also \n",
    "print(f_nm)\n",
    "print(l_nm)\n",
    "print(name)\n",
    "print(nm)\n",
    "print(f_nm,l_nm) # if we want to print two strings together"
   ]
  },
  {
   "cell_type": "code",
   "execution_count": null,
   "metadata": {},
   "outputs": [],
   "source": [
    "f_nm = 'Astha'\n",
    "l_nm = 'Allawadhi'\n",
    "errnm = f_nm - l_nm # plus will concatinate strings , minus will do nothing throw err"
   ]
  },
  {
   "cell_type": "code",
   "execution_count": null,
   "metadata": {},
   "outputs": [],
   "source": [
    "a = 1\n",
    "a"
   ]
  },
  {
   "cell_type": "code",
   "execution_count": null,
   "metadata": {},
   "outputs": [],
   "source": [
    "a = 1\n",
    "a\n",
    "b = 2\n",
    "b"
   ]
  },
  {
   "cell_type": "code",
   "execution_count": null,
   "metadata": {},
   "outputs": [],
   "source": [
    "a = 2\n",
    "b = 3\n",
    "sum = a + b\n",
    "print(sum)\n",
    "type(sum)"
   ]
  },
  {
   "cell_type": "code",
   "execution_count": null,
   "metadata": {},
   "outputs": [],
   "source": [
    "x = 1.1\n",
    "y = 2.2\n",
    "f = x + y\n",
    "print(f)\n",
    "type(f)"
   ]
  },
  {
   "cell_type": "code",
   "execution_count": null,
   "metadata": {},
   "outputs": [],
   "source": [
    "#multple assignments\n",
    "\n",
    "a,b,c = 1,2,3\n",
    "out = a+b+c\n",
    "print(out)"
   ]
  },
  {
   "cell_type": "code",
   "execution_count": null,
   "metadata": {},
   "outputs": [],
   "source": [
    "b = 16\n",
    "a = 4\n",
    "c = b/a\n",
    "type(c)\n"
   ]
  },
  {
   "cell_type": "code",
   "execution_count": null,
   "metadata": {},
   "outputs": [],
   "source": [
    "name,age,gender = \"Astha\",24,\"F\" #multiple assignment of diffrnt data types can also be done\n",
    "print(name,age,gender)"
   ]
  },
  {
   "cell_type": "code",
   "execution_count": null,
   "metadata": {},
   "outputs": [],
   "source": [
    "a1 = a2 = a3 = 8\n",
    "print(a1)\n",
    "print(a2)\n",
    "print(a3)"
   ]
  },
  {
   "cell_type": "code",
   "execution_count": 1,
   "metadata": {},
   "outputs": [
    {
     "data": {
      "text/plain": [
       "False"
      ]
     },
     "execution_count": 1,
     "metadata": {},
     "output_type": "execute_result"
    }
   ],
   "source": [
    "#boolean\n",
    "state = True\n",
    "state\n",
    "\n",
    "state1 = False\n",
    "state1"
   ]
  },
  {
   "cell_type": "code",
   "execution_count": 2,
   "metadata": {},
   "outputs": [
    {
     "name": "stdout",
     "output_type": "stream",
     "text": [
      "My name is Astha\n",
      "My age is 24\n",
      "my city is Delhi\n",
      "my height is 5.2\n"
     ]
    },
    {
     "data": {
      "text/plain": [
       "int"
      ]
     },
     "execution_count": 2,
     "metadata": {},
     "output_type": "execute_result"
    }
   ],
   "source": [
    "name,age,city,height = \"Astha\",24,\"Delhi\",5.2\n",
    "print(\"My name is\",name)\n",
    "print(\"My age is\",age)\n",
    "print(\"my city is\",city)\n",
    "print(\"my height is\",height)\n",
    "type(name)\n",
    "type(age) #if we simply write type it will give the result of the last variable called as we are calling it explicitely so it will show of age type\n"
   ]
  },
  {
   "cell_type": "code",
   "execution_count": 3,
   "metadata": {},
   "outputs": [
    {
     "name": "stdout",
     "output_type": "stream",
     "text": [
      "My name is Astha\n",
      "My age is 24\n",
      "my city is Delhi\n",
      "my height is 5.2\n",
      "<class 'str'>\n",
      "<class 'int'>\n",
      "<class 'str'>\n",
      "<class 'float'>\n"
     ]
    }
   ],
   "source": [
    "name,age,city,height = \"Astha\",24,\"Delhi\",5.2\n",
    "print(\"My name is\",name)\n",
    "print(\"My age is\",age)\n",
    "print(\"my city is\",city)\n",
    "print(\"my height is\",height)\n",
    "type(name)\n",
    "type(age) #if we simply write type it will give the result of the last variable called as we are calling it explicitely\n",
    "print(type(name)) #in order to get the data type of all we need to print all types \n",
    "print(type(age))\n",
    "print(type(city))\n",
    "print(type(height))"
   ]
  },
  {
   "cell_type": "code",
   "execution_count": 4,
   "metadata": {},
   "outputs": [
    {
     "name": "stdout",
     "output_type": "stream",
     "text": [
      "1.2\n",
      "<class 'float'>\n",
      "1\n",
      "<class 'int'>\n"
     ]
    }
   ],
   "source": [
    "#type casting - forcefully converting one data type into another\n",
    "#assign float\n",
    "f = 1.2\n",
    "print(f)\n",
    "print(type(f))\n",
    "\n",
    "#typecasting float into int\n",
    "int(f)\n",
    "print(int(f))\n",
    "print(type(int(f)))"
   ]
  },
  {
   "cell_type": "code",
   "execution_count": null,
   "metadata": {},
   "outputs": [],
   "source": [
    "#storing typecasted varible in another variable\n",
    "f = 4.5\n",
    "print(f)\n",
    "print(type(f))\n",
    "\n",
    "#typecasting float into int\n",
    "int(f)\n",
    "print(int(f))\n",
    "print(type(int(f)))\n",
    "\n",
    "#storing\n",
    "new = int(f)\n",
    "print(type(new))\n",
    "print(\"value of new is :\" , new)\n",
    "print(\"value of f is\", f)"
   ]
  },
  {
   "cell_type": "code",
   "execution_count": null,
   "metadata": {},
   "outputs": [],
   "source": [
    "a,b,c = 6.25,3,\"great learning\"\n",
    "x = a/b\n",
    "print(x)\n",
    "print(type(x))\n",
    "\n",
    "d = int(x)\n",
    "y = type(d)\n",
    "print(\"the type casted value is\",d)\n",
    "print(\"the data type of typecasted \" ,y)\n",
    "new = (c +\" \") *  d  #when we multiply a string and an integer it will display the string the number of times the integer is\n",
    "print(new)"
   ]
  },
  {
   "cell_type": "code",
   "execution_count": null,
   "metadata": {},
   "outputs": [],
   "source": [
    "#arithmetic - addition\n",
    "length = 12\n",
    "width = 2\n",
    "\n",
    "tot = length + width\n",
    "print( \"Addition output is %d\" %tot) #%d displays the displayed thing is int\n",
    "\n",
    "#or\n",
    "\n",
    "print()"
   ]
  },
  {
   "cell_type": "code",
   "execution_count": 17,
   "metadata": {},
   "outputs": [
    {
     "name": "stdout",
     "output_type": "stream",
     "text": [
      "greatlearning\n",
      "g\n",
      "t\n",
      "gre\n",
      "tlearning\n",
      "tlearning\n",
      "tlearning\n",
      "greatlearnin\n",
      "learn\n",
      "greatlearning\n",
      "greatlearning\n",
      "\n"
     ]
    }
   ],
   "source": [
    "#data slicing uses index and starts from 0\n",
    "nm = \"greatlearning\"\n",
    "print(nm)\n",
    "print(nm[0])\n",
    "print(nm[4])\n",
    "print(nm[0 : 3])\n",
    "print(nm[4 : 13])\n",
    "print(nm[4:])\n",
    "print(nm[4:len(nm)]) \n",
    "print(nm[0 : -1])\n",
    "print(nm[5 : -3])\n",
    "print(nm[:len(nm)])\n",
    "print(nm[0 : ])\n",
    "print(nm[:- len(nm)])"
   ]
  },
  {
   "cell_type": "code",
   "execution_count": null,
   "metadata": {},
   "outputs": [],
   "source": [
    "#print the bmi\n",
    "h = 1.53\n",
    "w = 57\n",
    "\n",
    "BMI = w/(h*h)\n",
    "print(\"The BMI is %f\" %BMI)"
   ]
  },
  {
   "cell_type": "code",
   "execution_count": null,
   "metadata": {},
   "outputs": [],
   "source": [
    "p= 5000\n",
    "r = 7.25\n",
    "t = 8\n",
    "si = (p*r*t)/100\n",
    "print(\"SI interest is %f\" %si)\n",
    "print(\"my simple interest is \" +str(si)+ \" for years\" +str(t)) #we have to typecast si which is an int to string in order to concatinate it with print statement as print statementis also a string and only strings can be concatenated with strings\n"
   ]
  },
  {
   "cell_type": "code",
   "execution_count": null,
   "metadata": {},
   "outputs": [],
   "source": [
    "#input variable is n n its value is 14\n",
    "#check if the value is 12 or not\n",
    "#use the logical operator\n",
    "\n",
    "n = 14\n",
    "n == 12"
   ]
  },
  {
   "cell_type": "code",
   "execution_count": null,
   "metadata": {},
   "outputs": [],
   "source": [
    "age = 24\n",
    "gen = \"male\"\n",
    "\n",
    "(age >= 18) | (gen == \"male\")"
   ]
  },
  {
   "cell_type": "code",
   "execution_count": null,
   "metadata": {},
   "outputs": [],
   "source": [
    "#how we can add a variable within a print statement\n",
    "nm = \"eddy\"\n",
    "greet = (\"%s you are welcome !!\") #greet is another strinng storin\n",
    "greet%(nm)"
   ]
  },
  {
   "cell_type": "code",
   "execution_count": null,
   "metadata": {},
   "outputs": [],
   "source": [
    "nm = \"eddy\"\n",
    "greet = (\"you are welcome !! %s\")\n",
    "greet%(nm)"
   ]
  },
  {
   "cell_type": "code",
   "execution_count": null,
   "metadata": {},
   "outputs": [],
   "source": [
    "name = \"Astha\"\n",
    "age = 24\n",
    "comp = \"My name is %s and my age is %d\"\n",
    "comp%(name,age)"
   ]
  },
  {
   "cell_type": "code",
   "execution_count": null,
   "metadata": {},
   "outputs": [],
   "source": [
    "name = \"Astha\"\n",
    "age = 24\n",
    "comp = (\"My name is %s and my age is %d\")\n",
    "print(comp%(name,age))\n",
    "comp = (\"dskjkd %s %d\")\n",
    "print(comp%(name,age))"
   ]
  },
  {
   "cell_type": "markdown",
   "metadata": {},
   "source": [
    "# advance data types\n",
    "##tuple\n",
    "##list\n",
    "##set\n",
    "##dictionary"
   ]
  },
  {
   "cell_type": "code",
   "execution_count": 7,
   "metadata": {},
   "outputs": [
    {
     "name": "stdout",
     "output_type": "stream",
     "text": [
      "('apple', 'cherry', 'cherry', 'banana', 'grapes')\n",
      "apple\n",
      "('cherry', 'banana', 'grapes')\n",
      "('banana', 'grapes')\n"
     ]
    },
    {
     "data": {
      "text/plain": [
       "('apple', 'cherry', 'cherry')"
      ]
     },
     "execution_count": 7,
     "metadata": {},
     "output_type": "execute_result"
    }
   ],
   "source": [
    "#create tuple for fruits\n",
    "fruits = (\"apple\",\"cherry\",\"cherry\",\"banana\",\"grapes\")\n",
    "print(fruits)\n",
    "type(fruits)\n",
    "\n",
    "#data slicing is picking up elements from the tuple\n",
    "#to get the first element\n",
    "print(fruits[0])\n",
    "#data slicing from 2nd element to last       \n",
    "print(fruits[2:len(fruits)]) \n",
    "#data slicing from 2nd element to last \n",
    "print(fruits[3:len(fruits)])\n",
    "fruits[0:-2] #reverse indexing means applying -ve to index .. this means have to print all elements except last 2 , there fore -2\n",
    "#del fruits[3] #in order to delete one element \n"
   ]
  },
  {
   "cell_type": "code",
   "execution_count": null,
   "metadata": {},
   "outputs": [],
   "source": [
    "fruits = (\"apple\",\"cherry\",\"cherry\",\"banana\",\"grapes\")\n",
    "price = (20,30,30,10,50)\n",
    "#add tuples and create new tuple\n",
    "out_tuple = fruits + price\n",
    "print(out_tuple)\n",
    "#replace the third element of out tuple with berry\n",
    "#out_tuple[2] = \"beryy\" #but this will throw error as tuple can't be modified\n",
    "fruits = fruits + out_tuple #it is dropping the orignal fruits tuple and creating new tuple"
   ]
  },
  {
   "cell_type": "code",
   "execution_count": null,
   "metadata": {},
   "outputs": [],
   "source": [
    "#advance data types\n",
    "#tuple - () - the elements of tuple could be of same data type or could be diff\n",
    "\n",
    "name = (\"ann\",\"grace\")\n",
    "print(type(name))\n",
    "print(\"My name is :\", name)"
   ]
  },
  {
   "cell_type": "code",
   "execution_count": null,
   "metadata": {},
   "outputs": [],
   "source": [
    "t1 = (\"mark\" , 28, \"Banglore\")\n",
    "print(\"age is : {}\".format(t1[1])) #here {} is used for tuple elements as %d for integer to publish elements\n",
    "print(\"name is : {}\".format(t1[0]))"
   ]
  },
  {
   "cell_type": "code",
   "execution_count": null,
   "metadata": {},
   "outputs": [],
   "source": [
    "age = (40,35,8,5)\n",
    "print(age)\n",
    "print(sorted(age)) #to sort the tuple in asc order , these are ascending by default\n",
    "print(age)"
   ]
  },
  {
   "cell_type": "code",
   "execution_count": null,
   "metadata": {},
   "outputs": [],
   "source": [
    "a = (2,1,4)\n",
    "sorted(a, reverse = True) #to sort tuple in the desc order"
   ]
  },
  {
   "cell_type": "code",
   "execution_count": null,
   "metadata": {},
   "outputs": [],
   "source": [
    "t1 = (1,2,3)\n",
    "t2 = (4,5,6)\n",
    "t1 = t1 + t2 #here we are not updating the tuple we are just overriting the t1 tuple , we can concatinate a tuple though\n",
    "print(t1)"
   ]
  },
  {
   "cell_type": "code",
   "execution_count": null,
   "metadata": {},
   "outputs": [],
   "source": [
    "t1[1] = 24 #tuple cannot be updated here we are trying to update the first element of t1 tuple but this will throw error"
   ]
  },
  {
   "cell_type": "code",
   "execution_count": null,
   "metadata": {},
   "outputs": [],
   "source": [
    "i = 0\n",
    "i+=1 #increment function it is equal to i = i +1\n",
    "print(i)"
   ]
  },
  {
   "cell_type": "code",
   "execution_count": null,
   "metadata": {},
   "outputs": [],
   "source": [
    "##create a set - set is denoted by - {}\n",
    "#set is indexed in random order\n",
    "#set removes duplicates\n",
    "#when we add an element to set it will randomly insert it anywhere\n",
    "\n",
    "\n",
    "ss = {\"Apple\",\"banana\",\"apple\", \"cherry\",\"cherry\",\"banana\"}\n",
    "print(ss) #it removed duplicates\n",
    "\n",
    "ss.add(\"mango\") #to add one element\n",
    "print(ss)\n",
    "\n",
    "ss.remove(\"apple\") #to delete on element\n",
    "print(ss)"
   ]
  },
  {
   "cell_type": "code",
   "execution_count": null,
   "metadata": {},
   "outputs": [],
   "source": [
    "## list denoted by - []\n",
    "## unlike set it doesnt removes duplicate , it is indexed. and unlike tuples it can be modified, adds new element at the end\n",
    "\n",
    "list = [\"Apple\",\"banana\",\"apple\", \"cherry\",\"cherry\",\"banana\"]\n",
    "print(list)\n",
    "\n",
    "list.append(\"chiku\") #to add the new element\n",
    "print(list)\n",
    "\n",
    "l = len(list) #finding length of lis\n",
    "print(l)\n",
    "del list[2] #deleting element from list\n",
    "print(list)\n",
    "\n",
    "list[1] = \"kiwi\" #replacing element of list with new element\n",
    "print(list)\n",
    "\n"
   ]
  },
  {
   "cell_type": "code",
   "execution_count": null,
   "metadata": {},
   "outputs": [],
   "source": [
    "snack = [\"burger\",\"waffle\",\"coke\"]\n",
    "len(list) == len(snack) #comparing length of two lists"
   ]
  },
  {
   "cell_type": "code",
   "execution_count": null,
   "metadata": {},
   "outputs": [],
   "source": [
    "new = list + snack\n",
    "print(new)"
   ]
  },
  {
   "cell_type": "code",
   "execution_count": null,
   "metadata": {},
   "outputs": [],
   "source": [
    "#type casting new which is a list into a set data type\n",
    "set(new)  #the output will also show in curly braces as it is typecasted into set"
   ]
  },
  {
   "cell_type": "code",
   "execution_count": null,
   "metadata": {},
   "outputs": [],
   "source": [
    "#list supports min,max,sum,length n sort functions\n",
    "num =[21,3,4,5,6]\n",
    "print(num)\n",
    "print(min(num))\n",
    "print(max(num))\n",
    "#print(sum(num))\n",
    "print(len(num))\n",
    "num.sort()\n",
    "print(num)\n",
    "#sum(num)"
   ]
  },
  {
   "cell_type": "code",
   "execution_count": null,
   "metadata": {},
   "outputs": [],
   "source": [
    "#joining list with newline n tab n sentence before each element in the list\n",
    "\n",
    "\n",
    "aw = \"\\n\".join(snack) #will put newline between each element of list\n",
    "print(aw)\n",
    "\n",
    "aw = \"\\t\".join(snack) #will put tab between each element of list\n",
    "print(aw)\n",
    "\n",
    "aw = \"\\n\".join([\"hi\",\"how\",\"r\"]) #here we are passing list on the spot\n",
    "print(aw)\n",
    "\n",
    "aw = \"\\t\".join([\"hi\",\"how\",\"r\"])\n",
    "print(aw)\n",
    "\n"
   ]
  },
  {
   "cell_type": "markdown",
   "metadata": {},
   "source": [
    "# dictionary -{ key1 : value1, key2 : value2}"
   ]
  },
  {
   "cell_type": "code",
   "execution_count": null,
   "metadata": {},
   "outputs": [],
   "source": [
    "students = {\"addy\":26 ,\"maria\":25 , \"jack\" : 28} #defining student dictionary\n",
    "print(students)\n",
    "type(students)"
   ]
  },
  {
   "cell_type": "code",
   "execution_count": null,
   "metadata": {},
   "outputs": [],
   "source": [
    "students[\"jack\"]  #pass thename of the student as it is key and get the age as it is value \n"
   ]
  },
  {
   "cell_type": "code",
   "execution_count": 4,
   "metadata": {},
   "outputs": [
    {
     "data": {
      "text/plain": [
       "dict_keys(['addy', 'maria', 'jack'])"
      ]
     },
     "execution_count": 4,
     "metadata": {},
     "output_type": "execute_result"
    }
   ],
   "source": [
    "students = {\"addy\":26 ,\"maria\":25 , \"jack\" : 28}\n",
    "students.keys()"
   ]
  },
  {
   "cell_type": "code",
   "execution_count": 5,
   "metadata": {},
   "outputs": [
    {
     "data": {
      "text/plain": [
       "dict_values([26, 25, 28])"
      ]
     },
     "execution_count": 5,
     "metadata": {},
     "output_type": "execute_result"
    }
   ],
   "source": [
    "students.values()"
   ]
  },
  {
   "cell_type": "code",
   "execution_count": null,
   "metadata": {},
   "outputs": [],
   "source": [
    "# dictionary\n",
    "\n",
    "x = {\"q\" : 1, \"e\":2, \"w\":3 ,\"z\":5}\n",
    "print(sorted(x))"
   ]
  },
  {
   "cell_type": "code",
   "execution_count": null,
   "metadata": {},
   "outputs": [],
   "source": [
    "students[\"jack\"] = 21\n",
    "print(students)\n"
   ]
  },
  {
   "cell_type": "code",
   "execution_count": null,
   "metadata": {},
   "outputs": [],
   "source": [
    "del students[\"jack\"]\n",
    "students"
   ]
  },
  {
   "cell_type": "code",
   "execution_count": null,
   "metadata": {},
   "outputs": [],
   "source": [
    "len(students)"
   ]
  },
  {
   "cell_type": "code",
   "execution_count": null,
   "metadata": {},
   "outputs": [],
   "source": [
    "students[\"maria\"] #to enter the key and get the values from a dictionary"
   ]
  },
  {
   "cell_type": "code",
   "execution_count": null,
   "metadata": {},
   "outputs": [],
   "source": [
    "#two level drill down\n",
    "elements ={\"hydrogen\" : { \"type\" : \"gas\" , \"atomic number\" : 1} , \"potassium\" : { \"type\" : \"metal\" , \"atomic number\" : \"19\"}}\n",
    "elements[\"hydrogen\"][\"type\"]"
   ]
  },
  {
   "cell_type": "markdown",
   "metadata": {},
   "source": [
    "# conditional statement\n",
    "\n"
   ]
  },
  {
   "cell_type": "code",
   "execution_count": null,
   "metadata": {},
   "outputs": [],
   "source": [
    "#if - else conditional statement\n",
    "if(3>5) :\n",
    "     print(\"3 is greater than 5\")\n",
    "else :\n",
    "     print(\"the statement is wrong\")\n",
    "    \n"
   ]
  },
  {
   "cell_type": "code",
   "execution_count": null,
   "metadata": {},
   "outputs": [],
   "source": [
    "usernm = \"gl\"\n",
    "pwd = \"pwd123\"\n",
    "\n",
    "if (usernm == \"gl\" and pwd == \"pwd123\") : #for string literals '&' doesn't work for that we need 'and'\n",
    "    print(\"auth successful\")\n",
    "else :\n",
    "    print(\"auth failed\")\n",
    "   "
   ]
  },
  {
   "cell_type": "code",
   "execution_count": null,
   "metadata": {},
   "outputs": [],
   "source": [
    "i = 23 \n",
    "if (i%2 == 0) :\n",
    "    print(\"Even\")\n",
    "else :\n",
    "    print(\"odd\")\n",
    " "
   ]
  },
  {
   "cell_type": "code",
   "execution_count": null,
   "metadata": {},
   "outputs": [],
   "source": [
    "#check if it is divisible by 3 and 9\n",
    "\n",
    "i = 27\n",
    "if ((i%3 ==0) & (i%9==0)) :\n",
    "    print(\"divisible by 3 n 9\")\n",
    "else :\n",
    "    print(\"not divisible\")\n",
    " "
   ]
  },
  {
   "cell_type": "code",
   "execution_count": null,
   "metadata": {},
   "outputs": [],
   "source": [
    "a,b,c = 15,1,6\n",
    "if(a>b and a>c) :\n",
    "    print(\"The biggest one is a\",a)\n",
    "elif(b>a and b>c) :\n",
    "    print(\"The biggest is b\",b)\n",
    "else :\n",
    "     print(\"The biggest is c\", c)"
   ]
  },
  {
   "cell_type": "code",
   "execution_count": null,
   "metadata": {},
   "outputs": [],
   "source": [
    "amt = 25000\n",
    "if(amt>=50000):\n",
    "    print(\"Daimond customer\")\n",
    "elif(amt>=25000 and amt<=50000):\n",
    "    print(\"gold customer\")\n",
    "elif(amt>=10000 and amt<=25000):\n",
    "    print(\"bronze\")\n",
    "elif(amt>=0 and amt<=10000):\n",
    "    print(\"water\")\n",
    "else:\n",
    "    print(\"enter amount greater then zero\")\n",
    "  \n",
    "   \n",
    "   "
   ]
  },
  {
   "cell_type": "code",
   "execution_count": null,
   "metadata": {},
   "outputs": [],
   "source": [
    "\n",
    "#name =str(input(\"Enter the name\"))\n",
    "#print=(\"customer name :\",name)\n",
    "amt = int(input(\"Enter the amount\")) #by default the input taken while runtime is a string , but amount here is an int quantity hence we have to typecast the input into int\n",
    "#print(\"The amount is\",amt)\n",
    "if(amt == 0):\n",
    "    print(\"enter amount greater then zero\")\n",
    "elif(amt>=50000):\n",
    "    print(\"Daimond customer\")\n",
    "elif(amt>=25000 and amt<=50000):\n",
    "    print(\"gold customer\")\n",
    "elif(amt>=10000 and amt<=25000):\n",
    "    print(\"bronze\")\n",
    "else:\n",
    "    print(\"normal customer\")\n",
    "#else:\n",
    "    #print(\"enter amount greater then zero\")\n",
    "  \n",
    "   \n",
    "   "
   ]
  },
  {
   "cell_type": "code",
   "execution_count": null,
   "metadata": {},
   "outputs": [],
   "source": [
    "##simple for loop\n",
    "a = [1,2,3,4]\n",
    "print(a)\n",
    "for i in a :\n",
    "    print(i)"
   ]
  },
  {
   "cell_type": "code",
   "execution_count": null,
   "metadata": {},
   "outputs": [],
   "source": [
    "fruits =[\"apple\",\"banana\",\"cherry\",\"kiwi\"]\n",
    "print(fruits)\n",
    "for i in fruits :\n",
    "    print(i)"
   ]
  },
  {
   "cell_type": "code",
   "execution_count": null,
   "metadata": {},
   "outputs": [],
   "source": [
    "#print value 1 to 9\n",
    "for i in range(1,10) :\n",
    "    print(i)"
   ]
  },
  {
   "cell_type": "code",
   "execution_count": null,
   "metadata": {},
   "outputs": [],
   "source": [
    "#odd numbers\n",
    "for i in range(1,11,2) :\n",
    "    print(i)"
   ]
  },
  {
   "cell_type": "code",
   "execution_count": null,
   "metadata": {},
   "outputs": [],
   "source": [
    "for i in range(5,56):\n",
    "    print(i)"
   ]
  },
  {
   "cell_type": "code",
   "execution_count": null,
   "metadata": {},
   "outputs": [],
   "source": [
    "for i in range(1,100):\n",
    "    if(i%2 == 0):\n",
    "        print(i, \"even\")\n",
    "    else:\n",
    "        print(i,\"odd\")"
   ]
  },
  {
   "cell_type": "code",
   "execution_count": null,
   "metadata": {},
   "outputs": [],
   "source": [
    "for i in range(1,100):\n",
    "    if(i%2 != 0):\n",
    "        s=s+i\n",
    "        \n",
    "print(s)\n",
    "        "
   ]
  },
  {
   "cell_type": "code",
   "execution_count": null,
   "metadata": {},
   "outputs": [],
   "source": [
    "odd=[] #declaring empty list to store odd values\n",
    "even=[] #declaring empty list to store even values\n",
    "\n",
    "for i in range(1,100):\n",
    "    if(i%2 != 0): #we will check odd condition\n",
    "        odd.append(i) # we will not print here coz we need to print it outside once we are done we will come out of the loop then print\n",
    "    else:\n",
    "        even.append(i) #append function will keep on adding the elements to the empty list even after checking it through if check\n",
    "        \n",
    "print(\"list of even numbers\")\n",
    "print(even) #print even updated list\n",
    "print(\"Sum of even numbers\")\n",
    "print(sum(even)) #sum function will display sum of all the elements of the list\n",
    "print(\"list of odd numbers\")\n",
    "print(odd)\n",
    "print(\"Sum of odd numbers\")\n",
    "print(sum(odd))\n",
    "       "
   ]
  },
  {
   "cell_type": "code",
   "execution_count": null,
   "metadata": {},
   "outputs": [],
   "source": [
    "s=0\n",
    "for i in range(555,1112):\n",
    "    if(i%5 ==0 and i%7==0):\n",
    "        s=s+i\n",
    "print(s)"
   ]
  },
  {
   "cell_type": "code",
   "execution_count": null,
   "metadata": {},
   "outputs": [],
   "source": [
    "list=[]\n",
    "for i in range(555,1112):\n",
    "    if(i%5 ==0 and i%7==0):\n",
    "           list.append(i)\n",
    "\n",
    "print(sum(list))"
   ]
  },
  {
   "cell_type": "code",
   "execution_count": null,
   "metadata": {},
   "outputs": [],
   "source": [
    "for i in range(1,11):\n",
    "    print(\"I am learning python!!\")"
   ]
  },
  {
   "cell_type": "code",
   "execution_count": null,
   "metadata": {},
   "outputs": [],
   "source": [
    "s=0\n",
    "for i in range(0,10):\n",
    "       for j in range(0,i+1):\n",
    "            s=s+i\n",
    "            print(i,\" \",s)\n",
    "                  \n",
    "                  "
   ]
  },
  {
   "cell_type": "code",
   "execution_count": null,
   "metadata": {},
   "outputs": [],
   "source": [
    "for i in range(1,10):\n",
    "    print(\"value of i :\",i)\n",
    "    if(i == 4):\n",
    "        break\n",
    "print(\"i have exited the loop\")"
   ]
  },
  {
   "cell_type": "code",
   "execution_count": 10,
   "metadata": {},
   "outputs": [
    {
     "name": "stdout",
     "output_type": "stream",
     "text": [
      "value of i : 1\n",
      "value of i : 2\n",
      "value of i : 3\n",
      "value of i : 4\n",
      "The person is there\n",
      "value of i : 5\n",
      "value of i : 6\n",
      "value of i : 7\n",
      "value of i : 8\n",
      "value of i : 9\n"
     ]
    }
   ],
   "source": [
    "for i in range(1,10):\n",
    "    print(\"value of i :\",i)\n",
    "    if(i == 4):\n",
    "        print(\"The person is there\")\n",
    "        continue\n",
    "        "
   ]
  },
  {
   "cell_type": "code",
   "execution_count": null,
   "metadata": {},
   "outputs": [],
   "source": [
    "#sum of first 50 natural numbers\n",
    "n=50\n",
    "s=0\n",
    "for i in range(1,n+1):\n",
    "    s=s+i\n",
    "    \n",
    "print(s)\n"
   ]
  },
  {
   "cell_type": "code",
   "execution_count": null,
   "metadata": {},
   "outputs": [],
   "source": [
    "#while loop\n",
    "k=0 #initialising the variable\n",
    "while k<5: #it will run as long as k is less than 5\n",
    "    print(k) #print k\n",
    "    k = k+1  #incremental clause"
   ]
  },
  {
   "cell_type": "code",
   "execution_count": null,
   "metadata": {},
   "outputs": [],
   "source": [
    "c=0\n",
    "while c<5 :\n",
    "    print(c)\n",
    "    c=c+1\n",
    "    if(c==3) :\n",
    "        #print(c)\n",
    "        #c=c+1\n",
    "        break\n",
    "        "
   ]
  },
  {
   "cell_type": "code",
   "execution_count": null,
   "metadata": {},
   "outputs": [],
   "source": [
    "c=0\n",
    "while c<6:\n",
    "    print(c)\n",
    "    c=c+1\n",
    " "
   ]
  },
  {
   "cell_type": "code",
   "execution_count": null,
   "metadata": {},
   "outputs": [],
   "source": [
    "for i in range(3,7):\n",
    "    print(i)\n",
    "    \n"
   ]
  },
  {
   "cell_type": "code",
   "execution_count": null,
   "metadata": {},
   "outputs": [],
   "source": [
    "c=0\n",
    "while(c<5):\n",
    "    print(c)\n",
    "    c=c+2\n",
    "    "
   ]
  },
  {
   "cell_type": "code",
   "execution_count": null,
   "metadata": {},
   "outputs": [],
   "source": [
    "l = \"greatlearning\"\n",
    "for i in l :\n",
    "        print(i)\n",
    "    "
   ]
  },
  {
   "cell_type": "code",
   "execution_count": null,
   "metadata": {},
   "outputs": [],
   "source": [
    "tup = ('ann','works','annworks')\n",
    "for i in tup :\n",
    "    print(i)\n",
    "    "
   ]
  },
  {
   "cell_type": "code",
   "execution_count": null,
   "metadata": {},
   "outputs": [],
   "source": [
    "lis = ['ann','works','annworks']\n",
    "for i in lis :\n",
    "    print(i)\n",
    "    "
   ]
  },
  {
   "cell_type": "code",
   "execution_count": 6,
   "metadata": {},
   "outputs": [
    {
     "name": "stdout",
     "output_type": "stream",
     "text": [
      "('ann', 26)\n",
      "('works', 23)\n",
      "('annworks', 25)\n"
     ]
    }
   ],
   "source": [
    "dic = {\"ann\" :26 ,\"works\" :23,\"annworks\" :25}\n",
    "for i in dic.items() : #dic.items - this is used to get key value pair\n",
    "#for i in dic.value() : if we want to get only list of values we use dic.value()\n",
    "#for i in dic.key() : if we want to get only list of key we use dic.key()\n",
    "    print(i)\n"
   ]
  },
  {
   "cell_type": "code",
   "execution_count": null,
   "metadata": {},
   "outputs": [],
   "source": [
    "n = [6,5,3,8,4,2,5,4,11]\n",
    "s =0\n",
    "for i in n:\n",
    "    s = s+i\n",
    "    print(s)\n",
    "\n"
   ]
  },
  {
   "cell_type": "code",
   "execution_count": null,
   "metadata": {},
   "outputs": [],
   "source": [
    "n = 6\n",
    "fact = 1\n",
    "for i in range(1,7):\n",
    "    fact = fact*i\n",
    "    \n",
    "print(\"The factorial of 6 is :\",fact)"
   ]
  },
  {
   "cell_type": "markdown",
   "metadata": {},
   "source": [
    "# Functions"
   ]
  },
  {
   "cell_type": "code",
   "execution_count": null,
   "metadata": {},
   "outputs": [],
   "source": [
    "def helloworld(): #creating a function , def is the \n",
    "    print(\"hello world!!\")"
   ]
  },
  {
   "cell_type": "code",
   "execution_count": null,
   "metadata": {},
   "outputs": [],
   "source": [
    "def helloworld(): #creating a function , def is the \n",
    "    print(\"hello world!!\")\n",
    "    \n",
    "#function call\n",
    "helloworld()"
   ]
  },
  {
   "cell_type": "code",
   "execution_count": null,
   "metadata": {},
   "outputs": [],
   "source": [
    "#function - create a function n pass input variable\n",
    "#pass variable to the function\n",
    "def hello(nm):\n",
    "    print(\"Hello\",nm)\n",
    "    \n",
    "hello(\"Eddy\")\n",
    " "
   ]
  },
  {
   "cell_type": "code",
   "execution_count": null,
   "metadata": {},
   "outputs": [],
   "source": [
    "#passing argumnets\n",
    "def printinfo(name,age):\n",
    "    print(\"Name: \",name)\n",
    "    print(\"Age\" , age)\n",
    "    return;\n",
    "\n",
    "#calling printinfo\n",
    "printinfo(age = 22,name=\"Ethan\")"
   ]
  },
  {
   "cell_type": "code",
   "execution_count": 19,
   "metadata": {},
   "outputs": [
    {
     "name": "stdout",
     "output_type": "stream",
     "text": [
      "Name:  Ethan\n",
      "Age  26\n"
     ]
    }
   ],
   "source": [
    "def printoinfo(name , age=26):\n",
    "    print(\"Name: \",name)\n",
    "    print(\"Age \" , age)\n",
    "    return;\n",
    "\n",
    "#calling printinfo\n",
    "printoinfo(name=\"Ethan\" , )"
   ]
  },
  {
   "cell_type": "code",
   "execution_count": null,
   "metadata": {},
   "outputs": [],
   "source": [
    "def area(r):\n",
    "    area = 3.14*r*r\n",
    "    print(\"area of the circle is : \",area)\n",
    "    return;\n",
    "#calling\n",
    "   #print(\"Enter the radius\")\n",
    "    #r = int(input(\"Enter the radius\"))\n",
    "    #area(r)\n"
   ]
  },
  {
   "cell_type": "code",
   "execution_count": null,
   "metadata": {},
   "outputs": [],
   "source": [
    "r = int(input(\"Enter the radius\"))\n",
    "area(r)"
   ]
  },
  {
   "cell_type": "code",
   "execution_count": null,
   "metadata": {},
   "outputs": [],
   "source": [
    "def add(a,b):\n",
    "    c=a+b\n",
    "    print(\"sum of a and b is :\" ,c)\n",
    "    return;\n",
    "\n",
    "def sub(a,b):\n",
    "    d=a-b\n",
    "    print(\"sub of a and b is :\" ,d)\n",
    "    return;\n",
    "\n",
    "def prod(a,b):\n",
    "    e=a*b\n",
    "    print(\"product of a and b is :\" ,e)\n",
    "    return;\n",
    "    "
   ]
  },
  {
   "cell_type": "code",
   "execution_count": null,
   "metadata": {},
   "outputs": [],
   "source": [
    "a = int(input(\"Enter the value of a : \"))\n",
    "b = int(input(\"Enter the value of b : \"))\n",
    "\n",
    "add(a,b)\n",
    "sub(a,b)\n",
    "prod(a,b)\n"
   ]
  },
  {
   "cell_type": "code",
   "execution_count": null,
   "metadata": {},
   "outputs": [],
   "source": [
    "def greet(lang,person):\n",
    "    if(lang == 'Hindi'):\n",
    "        print(\"Namaste \",person)\n",
    "    elif(lang == \"French\"):\n",
    "        print(\"Bonjour \",person)\n",
    "    elif(lang == \"Spanish\"):\n",
    "        print(\"Hola \",person)\n",
    "    else :\n",
    "        print(\"give valid input\")\n",
    "        \n",
    "return;\n",
    "\n",
    "    \n",
    "    \n",
    "    \n"
   ]
  },
  {
   "cell_type": "code",
   "execution_count": null,
   "metadata": {},
   "outputs": [],
   "source": [
    "\"\"\"def greet(lang,person):\n",
    "    if(lang == 'Hindi'):\n",
    "        print(\"Namaste \",person)\n",
    "    elif(lang == \"French\"):\n",
    "        print(\"Bonjour \",person)\n",
    "    elif(lang == \"Spanish\"):\n",
    "        print(\"Hola \" ,person)\n",
    "    else :\n",
    "        print(\"give valid input\")\n",
    "        \n",
    "return;\n",
    "\"\"\"\n",
    "    \n",
    "#calling function\n",
    "person = input(\"Enter your name : \")\n",
    "lang = input(\"Enter your language : \")\n",
    "\n",
    "greet(lang,person)"
   ]
  },
  {
   "cell_type": "code",
   "execution_count": null,
   "metadata": {},
   "outputs": [],
   "source": [
    "def func(x,y):\n",
    "    z=x+y;\n",
    "    return z*2;\n",
    "\n",
    "print(func(5,6))"
   ]
  },
  {
   "cell_type": "code",
   "execution_count": 1,
   "metadata": {},
   "outputs": [
    {
     "name": "stdout",
     "output_type": "stream",
     "text": [
      "list of even numbers\n",
      "[10, 12, 14, 16, 18, 20, 22, 24, 26, 28, 30, 32, 34, 36, 38, 40, 42, 44, 46, 48, 50, 52, 54, 56, 58, 60, 62, 64, 66, 68, 70, 72, 74, 76, 78, 80, 82, 84, 86, 88, 90, 92, 94, 96, 98, 100]\n",
      "list of odd numbers\n",
      "[11, 13, 15, 17, 19, 21, 23, 25, 27, 29, 31, 33, 35, 37, 39, 41, 43, 45, 47, 49, 51, 53, 55, 57, 59, 61, 63, 65, 67, 69, 71, 73, 75, 77, 79, 81, 83, 85, 87, 89, 91, 93, 95, 97, 99]\n"
     ]
    }
   ],
   "source": [
    "odd = []\n",
    "even = []\n",
    "def odev(s,e):\n",
    "    \n",
    "    for i in range(s,e):\n",
    "            if(i%2==0):\n",
    "                even.append(i)\n",
    "                #print(even)\n",
    "            else:\n",
    "                odd.append(i)\n",
    "            \n",
    "    print(\"list of even numbers\")\n",
    "    print(even)\n",
    "    print(\"list of odd numbers\")\n",
    "    print(odd)\n",
    "\n",
    "\n",
    "\n",
    "odev(10,101)"
   ]
  },
  {
   "cell_type": "code",
   "execution_count": null,
   "metadata": {},
   "outputs": [],
   "source": [
    "def cust(amt):\n",
    "    if(amt ==0):\n",
    "        print(\"enter amount greater then zero\")\n",
    "    elif(amt>=50000):\n",
    "        print(\"Daimond customer\")\n",
    "    elif(amt>=25000 and amt<=50000):\n",
    "        print(\"gold customer\")\n",
    "    elif(amt>=10000 and amt<=25000):\n",
    "        print(\"bronze\")\n",
    "    else:\n",
    "        print(\"normal\")\n",
    "        \n",
    "        \n",
    "amt = int(input(\"Enter your pay : \"))\n",
    "cust(amt)\n",
    "  "
   ]
  },
  {
   "cell_type": "code",
   "execution_count": 6,
   "metadata": {},
   "outputs": [
    {
     "name": "stdout",
     "output_type": "stream",
     "text": [
      "Enter the new element : 5\n",
      "[10, 11, 5, 13, 14, 15]\n"
     ]
    }
   ],
   "source": [
    "def replace(el):\n",
    "    list =[10,11,12,13,14,15]\n",
    "    list[2] = el\n",
    "    print(list)\n",
    "\n",
    "\n",
    "el=int(input(\"Enter the new element : \"))\n",
    "replace(el)"
   ]
  },
  {
   "cell_type": "code",
   "execution_count": 9,
   "metadata": {},
   "outputs": [
    {
     "name": "stdout",
     "output_type": "stream",
     "text": [
      "My orignal list is [10, 20, 30]\n",
      "Values when called from function [10, 20, 30, [1, 2, 3]]\n",
      "Values from the main after calling  [10, 20, 30, [1, 2, 3]]\n"
     ]
    }
   ],
   "source": [
    "#pass by reference will change the orignal value\n",
    "def changeme(mylist):\n",
    "    mylist.append([1,2,3]) #appending the list passed --> append is used for pass by ref changing permanently\n",
    "    print(\"Values when called from function\" , mylist) #printing within function the appended list\n",
    "    return\n",
    "\n",
    "#calling function\n",
    "mylist = [10,20,30] #orignally\n",
    "print(\"My orignal list is\" , mylist)\n",
    "changeme(mylist) #calling function\n",
    "print(\"Values from the main after calling \" , mylist) #the list is permanently apended in the function like sort function and the new list"
   ]
  },
  {
   "cell_type": "code",
   "execution_count": 10,
   "metadata": {},
   "outputs": [
    {
     "name": "stdout",
     "output_type": "stream",
     "text": [
      "My orignal list is [10, 20, 30]\n",
      "Values when called from function [1, 2, 3]\n",
      "Values from the main after calling  [10, 20, 30]\n"
     ]
    }
   ],
   "source": [
    "#pass by reference will overrite only as long as function is called\n",
    "def changeme(mylist):\n",
    "    mylist = [1,2,3] #assigning new value to variable within the function\n",
    "    print(\"Values when called from function\" , mylist) #printing within function the appended list\n",
    "    return\n",
    "\n",
    "#calling function\n",
    "mylist = [10,20,30] #orignally\n",
    "print(\"My orignal list is\" , mylist)\n",
    "changeme(mylist) #calling function\n",
    "print(\"Values from the main after calling \" , mylist) #the list printed will be the orignal only coz"
   ]
  },
  {
   "cell_type": "code",
   "execution_count": 16,
   "metadata": {},
   "outputs": [
    {
     "name": "stdout",
     "output_type": "stream",
     "text": [
      "Enter value of a :5\n",
      "Enter value of b :10\n",
      "The swapped value are a :  10\n",
      "The swapped value are b :  5\n"
     ]
    }
   ],
   "source": [
    "def swap(a,b):\n",
    "    #c=0;\n",
    "    c=a;\n",
    "    a=b;\n",
    "    b=c;\n",
    "    \n",
    "    print(\"The swapped value are a : \", a)\n",
    "    print(\"The swapped value are b : \", b)\n",
    "    return\n",
    "\n",
    "a=int(input(\"Enter value of a :\"))\n",
    "b=int(input(\"Enter value of b :\"))\n",
    "swap(a,b)\n",
    "\n",
    " "
   ]
  },
  {
   "cell_type": "code",
   "execution_count": 18,
   "metadata": {},
   "outputs": [
    {
     "name": "stdout",
     "output_type": "stream",
     "text": [
      "Enter value of a :7\n",
      "Enter value of b :8\n",
      "The swapped value are a :  8\n",
      "The swapped value are b :  7\n"
     ]
    }
   ],
   "source": [
    "def swap(a,b):\n",
    "    a,b=b,a #can be done by this method also\n",
    "    \n",
    "    print(\"The swapped value are a : \", a)\n",
    "    print(\"The swapped value are b : \", b)\n",
    "    return\n",
    "\n",
    "a=int(input(\"Enter value of a :\"))\n",
    "b=int(input(\"Enter value of b :\"))\n",
    "swap(a,b)\n"
   ]
  },
  {
   "cell_type": "code",
   "execution_count": 20,
   "metadata": {},
   "outputs": [
    {
     "name": "stdout",
     "output_type": "stream",
     "text": [
      "inside function local toatal is : 30\n",
      "outside function the global variable is : 0\n"
     ]
    }
   ],
   "source": [
    "#scope  of variable\n",
    "total = 0; #global variable outside function is declared\n",
    "#function definition\n",
    "def sum(arg1,arg2):\n",
    "    total=arg1+arg2\n",
    "    print(\"inside function local toatal is :\" , total)\n",
    "    return total;\n",
    "\n",
    "#calling function\n",
    "sum(10,20)\n",
    "print(\"outside function the global variable is :\",total)\n"
   ]
  },
  {
   "cell_type": "code",
   "execution_count": 22,
   "metadata": {},
   "outputs": [
    {
     "name": "stdout",
     "output_type": "stream",
     "text": [
      "The distance in km with function is locally :  8.0\n",
      "The distance in km outside function is globally :  4500\n"
     ]
    }
   ],
   "source": [
    "def converter(l):\n",
    "    d=l/1000;\n",
    "    print(\"The distance in km with function is locally : \",d)\n",
    "    \n",
    "d=4500\n",
    "converter(8000)\n",
    "print(\"The distance in km outside function is globally : \",d)\n",
    "    "
   ]
  },
  {
   "cell_type": "code",
   "execution_count": 23,
   "metadata": {},
   "outputs": [
    {
     "name": "stdout",
     "output_type": "stream",
     "text": [
      "Enter the number of days89\n",
      "12  weeks\n",
      "5 days\n"
     ]
    }
   ],
   "source": [
    "def weeks(d):\n",
    "    week=d//7 #// will give the quotient into int form whereas /will convert into float\n",
    "    days=d%7  #reminder will give number of leftover days\n",
    "    print(week ,\" weeks\")\n",
    "    print(days , \"days\")\n",
    "    return\n",
    "\n",
    "d=int(input(\"Enter the number of days\"))\n",
    "weeks(d)\n"
   ]
  },
  {
   "cell_type": "code",
   "execution_count": 25,
   "metadata": {},
   "outputs": [
    {
     "name": "stdout",
     "output_type": "stream",
     "text": [
      "temp in celcius is 32.22222222222222\n"
     ]
    }
   ],
   "source": [
    "def temp(t):\n",
    "    c=(t-32)*(5/9)\n",
    "    print(\"temp in celcius is\" , c)\n",
    "    \n",
    "temp(90)\n"
   ]
  },
  {
   "cell_type": "code",
   "execution_count": 9,
   "metadata": {},
   "outputs": [
    {
     "name": "stdout",
     "output_type": "stream",
     "text": [
      "Not a prime number\n"
     ]
    }
   ],
   "source": [
    "def prime(num):\n",
    "    if num > 1:\n",
    "        for i in range(2,num):\n",
    "            if(num%i==0):\n",
    "                print(\"Not a prime number\")\n",
    "                break\n",
    "        else:\n",
    "                print(\"it is prime\")\n",
    "    else:\n",
    "        print(\"not prime!!\")\n",
    "        \n",
    "prime(15)\n",
    "            \n",
    "\n"
   ]
  },
  {
   "cell_type": "code",
   "execution_count": null,
   "metadata": {},
   "outputs": [],
   "source": [
    "for i in range (1,num)"
   ]
  },
  {
   "cell_type": "code",
   "execution_count": 28,
   "metadata": {},
   "outputs": [
    {
     "name": "stdout",
     "output_type": "stream",
     "text": [
      "it is a pallindrome\n"
     ]
    }
   ],
   "source": [
    "def pal(my_str):\n",
    "    my_str = my_str.casefold() #casefold is used to bring string in uniform case so it would be easier to compare\n",
    "    \n",
    "    rev_str = reversed(my_str) #reversed my_str\n",
    "    \n",
    "    if (list(my_str) == list(rev_str)): #we have typecasted the my_str to list datatype so as it is uniform to compare\n",
    "        print(\"it is a pallindrome\")\n",
    "        \n",
    "    else :\n",
    "        print(\"No!!\")\n",
    "\n",
    "        #calling function      \n",
    "pal(\"madam\")\n",
    "    \n",
    "    "
   ]
  },
  {
   "cell_type": "code",
   "execution_count": 30,
   "metadata": {},
   "outputs": [
    {
     "name": "stdout",
     "output_type": "stream",
     "text": [
      "python is great\n",
      "python is great\n",
      "juzz awesome\n",
      "juzz awesome\n"
     ]
    }
   ],
   "source": [
    "def f():\n",
    "    global s #using global keyword to define the variable in function as we are not passing the arg in function\n",
    "    print(s)  #it will print orignal global value as above we have used global keyword\n",
    "    s = \"juzz awesome\" #now value of s is changed\n",
    "    print(s) #it will print new value of s\n",
    "    \n",
    "#Global scope\n",
    "s = \"python is great\"\n",
    "print(s)\n",
    "f()\n",
    "print(s)"
   ]
  },
  {
   "cell_type": "code",
   "execution_count": 31,
   "metadata": {},
   "outputs": [
    {
     "data": {
      "text/plain": [
       "'taerg'"
      ]
     },
     "execution_count": 31,
     "metadata": {},
     "output_type": "execute_result"
    }
   ],
   "source": [
    "str =\"great\"\n",
    "str[::-1] #use this to reverse it works for everything , list,tuplr"
   ]
  },
  {
   "cell_type": "code",
   "execution_count": 52,
   "metadata": {},
   "outputs": [
    {
     "name": "stdout",
     "output_type": "stream",
     "text": [
      "0  \n",
      "1  \n",
      "1  \n",
      "2  \n",
      "3  \n",
      "5  \n",
      "8  \n",
      "13  \n",
      "21  \n"
     ]
    }
   ],
   "source": [
    "a,b=0,1\n",
    "c=0\n",
    "list=[]\n",
    "for i in range(1,10):\n",
    "    \n",
    "    \n",
    "    #print(a,b,c)\n",
    "    #list.append([a,b,c])\n",
    "    \n",
    "    c=a+b\n",
    "    \n",
    "    print(a,\" \")\n",
    "    a=b \n",
    "    b=c\n",
    "    \n",
    "    \n",
    "    \n",
    "#print(list)\n",
    "    \n",
    "    \n",
    "    "
   ]
  },
  {
   "cell_type": "markdown",
   "metadata": {},
   "source": [
    "# lambda - anonymous function"
   ]
  },
  {
   "cell_type": "code",
   "execution_count": 55,
   "metadata": {},
   "outputs": [
    {
     "data": {
      "text/plain": [
       "6"
      ]
     },
     "execution_count": 55,
     "metadata": {},
     "output_type": "execute_result"
    }
   ],
   "source": [
    "add = lambda a,b,c : a+b+c #lambda is define and assigned at the moment\n",
    "add(1,2,3)"
   ]
  },
  {
   "cell_type": "code",
   "execution_count": 56,
   "metadata": {},
   "outputs": [
    {
     "name": "stdout",
     "output_type": "stream",
     "text": [
      "enter number : 5\n"
     ]
    },
    {
     "data": {
      "text/plain": [
       "125"
      ]
     },
     "execution_count": 56,
     "metadata": {},
     "output_type": "execute_result"
    }
   ],
   "source": [
    "num =int(input(\"enter number : \"))\n",
    "cube = lambda x : x**3 #** is used for power\n",
    "cube(num)"
   ]
  },
  {
   "cell_type": "code",
   "execution_count": 58,
   "metadata": {},
   "outputs": [
    {
     "data": {
      "text/plain": [
       "33"
      ]
     },
     "execution_count": 58,
     "metadata": {},
     "output_type": "execute_result"
    }
   ],
   "source": [
    "def myfunc(n):\n",
    "    return lambda a : a*n\n",
    "\n",
    "mytripler = myfunc(3)\n",
    "mytripler(11)"
   ]
  },
  {
   "cell_type": "code",
   "execution_count": 59,
   "metadata": {},
   "outputs": [
    {
     "data": {
      "text/plain": [
       "33"
      ]
     },
     "execution_count": 59,
     "metadata": {},
     "output_type": "execute_result"
    }
   ],
   "source": [
    "def myfunc(n):\n",
    "    #return lambda a : a*n\n",
    "    mytripler = lambda a : a*n\n",
    "    return mytripler\n",
    "\n",
    "mytripler = myfunc(3)\n",
    "mytripler(11)"
   ]
  },
  {
   "cell_type": "markdown",
   "metadata": {},
   "source": [
    "# Filter"
   ]
  },
  {
   "cell_type": "code",
   "execution_count": 4,
   "metadata": {},
   "outputs": [
    {
     "name": "stdout",
     "output_type": "stream",
     "text": [
      "[2]\n"
     ]
    }
   ],
   "source": [
    "#filter - filters out all the elements of a sequence \"sequence\",for which the function returns true\n",
    "#\n",
    "li =[5,7,2,97]\n",
    "final_list= list(filter(lambda x : (x%2 == 0), li)) #we have typecasted the output \n",
    "print(final_list)\n",
    "#print(li)"
   ]
  },
  {
   "cell_type": "code",
   "execution_count": null,
   "metadata": {},
   "outputs": [],
   "source": [
    "dict_a"
   ]
  },
  {
   "cell_type": "code",
   "execution_count": 3,
   "metadata": {},
   "outputs": [
    {
     "name": "stdout",
     "output_type": "stream",
     "text": [
      "15\n"
     ]
    }
   ],
   "source": [
    "#Reduce\n",
    "from functools import reduce #reduce function is present in functools library every time we want to use reduce function we have to import that\n",
    "lis =[1,2,3,4,5] #given list\n",
    "sum = reduce((lambda x,y : x+y),lis) #cumulatively adding/aggregating elements eg (((((5+8)+10)+20)+50)+100).\n",
    "print(sum)"
   ]
  },
  {
   "cell_type": "code",
   "execution_count": 6,
   "metadata": {},
   "outputs": [
    {
     "name": "stdout",
     "output_type": "stream",
     "text": [
      "The product of list is : 720\n"
     ]
    }
   ],
   "source": [
    "import functools #importing functools lib to use reduce function\n",
    "import operator  #importing operator lib to use mul function which will multiply\n",
    "lis = [1,2,3,4,5,6] #initialising list\n",
    "print(\"The product of list is :\",end= \" \") #end = is used to provide the next line output in the same above print statement\n",
    "print(functools.reduce(operator.mul,lis)) #multiplicating all the elements of list using operators rather than lambda function"
   ]
  },
  {
   "cell_type": "markdown",
   "metadata": {},
   "source": [
    "# Difference between reduce and accumulator\n"
   ]
  },
  {
   "cell_type": "code",
   "execution_count": null,
   "metadata": {},
   "outputs": [],
   "source": [
    "# Both reduce() and accumulate() can be used to calculate the summation of a sequence elements.\n",
    "# reduce() is defined in “functools” module, accumulate() in “itertools” module.\n",
    "# reduce() stores the intermediate result and only returns the final summation value. \n",
    "# accumulate() returns a list containing the intermediate results.The last number of the \n",
    "# list returned is summation value of the list."
   ]
  },
  {
   "cell_type": "code",
   "execution_count": 7,
   "metadata": {},
   "outputs": [],
   "source": [
    "# importing itertools for accumulate() \n",
    "import itertools \n",
    "  \n",
    "# importing functools for reduce() \n",
    "import functools "
   ]
  },
  {
   "cell_type": "code",
   "execution_count": 8,
   "metadata": {},
   "outputs": [
    {
     "name": "stdout",
     "output_type": "stream",
     "text": [
      "The summation of list using accumulate is :[1, 3, 6, 10, 15, 21]\n"
     ]
    }
   ],
   "source": [
    "# priting summation using accumulate() \n",
    "print (\"The summation of list using accumulate is :\",end=\"\") \n",
    "print (list(itertools.accumulate(lis,lambda x,y : x+y))) # for accumulator we use lis before lambda"
   ]
  },
  {
   "cell_type": "code",
   "execution_count": 9,
   "metadata": {},
   "outputs": [
    {
     "name": "stdout",
     "output_type": "stream",
     "text": [
      "The summation of list using reduce is :21\n"
     ]
    }
   ],
   "source": [
    "# priting summation using reduce() \n",
    "print (\"The summation of list using reduce is :\",end=\"\") \n",
    "print (functools.reduce(lambda x,y:x+y,lis)) #whereas for reduce we use ,lis after defining lambda function"
   ]
  },
  {
   "cell_type": "code",
   "execution_count": 10,
   "metadata": {},
   "outputs": [
    {
     "ename": "TypeError",
     "evalue": "'builtin_function_or_method' object is not iterable",
     "output_type": "error",
     "traceback": [
      "\u001b[1;31m---------------------------------------------------------------------------\u001b[0m",
      "\u001b[1;31mTypeError\u001b[0m                                 Traceback (most recent call last)",
      "\u001b[1;32m<ipython-input-10-e0b7f7046bb5>\u001b[0m in \u001b[0;36m<module>\u001b[1;34m\u001b[0m\n\u001b[0;32m      1\u001b[0m \u001b[0mlis\u001b[0m \u001b[1;33m=\u001b[0m\u001b[1;33m[\u001b[0m\u001b[1;36m1\u001b[0m\u001b[1;33m,\u001b[0m\u001b[1;36m2\u001b[0m\u001b[1;33m,\u001b[0m\u001b[1;36m3\u001b[0m\u001b[1;33m,\u001b[0m\u001b[1;36m4\u001b[0m\u001b[1;33m,\u001b[0m\u001b[1;36m5\u001b[0m\u001b[1;33m,\u001b[0m\u001b[1;36m6\u001b[0m\u001b[1;33m]\u001b[0m\u001b[1;33m\u001b[0m\u001b[1;33m\u001b[0m\u001b[0m\n\u001b[0;32m      2\u001b[0m \u001b[1;31m#printing summation using accumulate\u001b[0m\u001b[1;33m\u001b[0m\u001b[1;33m\u001b[0m\u001b[1;33m\u001b[0m\u001b[0m\n\u001b[1;32m----> 3\u001b[1;33m \u001b[0mfinal_list\u001b[0m \u001b[1;33m=\u001b[0m \u001b[0mitertools\u001b[0m\u001b[1;33m.\u001b[0m\u001b[0maccumulate\u001b[0m\u001b[1;33m(\u001b[0m\u001b[0moperator\u001b[0m\u001b[1;33m.\u001b[0m\u001b[0madd\u001b[0m\u001b[1;33m,\u001b[0m\u001b[0mlis\u001b[0m\u001b[1;33m)\u001b[0m\u001b[1;33m\u001b[0m\u001b[1;33m\u001b[0m\u001b[0m\n\u001b[0m\u001b[0;32m      4\u001b[0m \u001b[0mlistfinal\u001b[0m \u001b[1;33m=\u001b[0m \u001b[0mlist\u001b[0m\u001b[1;33m(\u001b[0m\u001b[0mfinal_list\u001b[0m\u001b[1;33m)\u001b[0m\u001b[1;33m\u001b[0m\u001b[1;33m\u001b[0m\u001b[0m\n\u001b[0;32m      5\u001b[0m \u001b[0mprint\u001b[0m\u001b[1;33m(\u001b[0m\u001b[0mlistfinal\u001b[0m\u001b[1;33m)\u001b[0m\u001b[1;33m\u001b[0m\u001b[1;33m\u001b[0m\u001b[0m\n",
      "\u001b[1;31mTypeError\u001b[0m: 'builtin_function_or_method' object is not iterable"
     ]
    }
   ],
   "source": [
    "lis =[1,2,3,4,5,6]\n",
    "#printing summation using accumulate\n",
    "final_list = list(itertools.accumulate(operator.add,lis)) #itertools i.e accumulate doesnt support operator function\n",
    "#listfinal = list(final_list)\n",
    "print(final_list)\n"
   ]
  },
  {
   "cell_type": "code",
   "execution_count": 15,
   "metadata": {},
   "outputs": [
    {
     "name": "stdout",
     "output_type": "stream",
     "text": [
      "21\n"
     ]
    }
   ],
   "source": [
    "lis =[1,2,3,4,5,6]\n",
    "#printing summation using reduce\n",
    "final_list = functools.reduce(operator.add,lis) #\n",
    "#listfinal = list(final_list) - we need not to typecast the rsult of reduce as we are getting a solid single int as a result\n",
    "print(final_list)\n"
   ]
  }
 ],
 "metadata": {
  "kernelspec": {
   "display_name": "Python 3",
   "language": "python",
   "name": "python3"
  },
  "language_info": {
   "codemirror_mode": {
    "name": "ipython",
    "version": 3
   },
   "file_extension": ".py",
   "mimetype": "text/x-python",
   "name": "python",
   "nbconvert_exporter": "python",
   "pygments_lexer": "ipython3",
   "version": "3.7.1"
  }
 },
 "nbformat": 4,
 "nbformat_minor": 2
}
